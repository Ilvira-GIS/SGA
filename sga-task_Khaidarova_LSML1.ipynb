{
 "cells": [
  {
   "cell_type": "markdown",
   "metadata": {},
   "source": [
    "# User routes on the site\n",
    "## Description\n",
    "**Clickstream** is a sequence of user actions on a website. It allows you to understand how users interact with the site. In this task, you need to find the most frequent custom routes.\n",
    "\n",
    "## Input data\n",
    "Input data is а table with clickstream data in file `hdfs:/data/clickstream.csv`.\n",
    "\n",
    "### Table structure\n",
    "* `user_id (int)` - Unique user identifier.\n",
    "* `session_id (int)` - Unique identifier for the user session. The user's session lasts until the identifier changes.\n",
    "* `event_type (string)` - Event type from the list:\n",
    "    * **page** - visit to the page\n",
    "    * **event** - any action on the page\n",
    "    * <b>&lt;custom&gt;</b> - string with any other type\n",
    "* `event_type (string)` - Page on the site.\n",
    "* `timestamp (int)` - Unix-timestamp of action.\n",
    "\n",
    "### Browser errors\n",
    "Errors can sometimes occur in the user's browser - after such an error appears, we can no longer trust the data of this session and all the following lines after the error or at the same time with it are considered corrupted and **should not be counted** in statistics.\n",
    "\n",
    "When an error occurs on the page, a random string containing the word **error** will be written to the `event_type` field.\n",
    "\n",
    "### Sample of user session\n",
    "<pre>\n",
    "+-------+----------+------------+----------+----------+\n",
    "|user_id|session_id|  event_type|event_page| timestamp|\n",
    "+-------+----------+------------+----------+----------+\n",
    "|    562|       507|        page|      main|1620494781|\n",
    "|    562|       507|       event|      main|1620494788|\n",
    "|    562|       507|       event|      main|1620494798|\n",
    "|    562|       507|        page|    family|1620494820|\n",
    "|    562|       507|       event|    family|1620494828|\n",
    "|    562|       507|        page|      main|1620494848|\n",
    "|    562|       507|wNaxLlerrorU|      main|1620494865|\n",
    "|    562|       507|       event|      main|1620494873|\n",
    "|    562|       507|        page|      news|1620494875|\n",
    "|    562|       507|        page|   tariffs|1620494876|\n",
    "|    562|       507|       event|   tariffs|1620494884|\n",
    "|    562|       514|        page|      main|1620728918|\n",
    "|    562|       514|       event|      main|1620729174|\n",
    "|    562|       514|        page|   archive|1620729674|\n",
    "|    562|       514|        page|     bonus|1620729797|\n",
    "|    562|       514|        page|   tariffs|1620731090|\n",
    "|    562|       514|       event|   tariffs|1620731187|\n",
    "+-------+----------+------------+----------+----------+\n",
    "</pre>\n",
    "\n",
    "#### Correct user routes for a given user:\n",
    "* **Session 507**: main-family-main\n",
    "* **Session 514**: main-archive-bonus-tariffs\n",
    "\n",
    "Route elements are ordered by the time they appear in the clickstream, from earliest to latest.\n",
    "\n",
    "The route must be accounted for completely before the end of the session or an error in the session.\n",
    "\n",
    "## Task\n",
    "You need to use the Spark SQL, Spark RDD and Spark DF interfaces to create a solution file, the lines of which contain **the 30 most frequent user routes** on the site.\n",
    "\n",
    "Each line of the file should contain the `route` and `count` values **separated by tabs**, where:\n",
    "* `route` - route on the site, consisting of pages separated by \"-\".\n",
    "* `count` - the number of user sessions in which this route was.\n",
    "\n",
    "The lines must be **ordered in descending order** of the `count` field.\n",
    "\n",
    "## Criteria\n",
    "You can get maximum of 3.5 points (final grade) for this assignment, depedning on the number of interface you manage to leverage. The criteria are as follows:\n",
    "\n",
    "* 0.5 points – Spark SQL solution with 1 query\n",
    "* 0.5 points – Spark SQL solution with <=2 queries\n",
    "* 0.5 points – Spark RDD solution\n",
    "* 0.5 points – Spark DF solution\n",
    "* 0.5 points – your solution algorithm is relatively optimized, i.e.: no O^2 or O^3 complexities; appropriate object usage; no data leaks etc. This is evaluated by staff.\n",
    "* 1 point – 1 on 1 screening session. During this session staff member can ask you questions regarding your solution logic, framework usage, questionable parts of your code etc. If your code is clean enough, the staff member can just ask you to solve a theoretical problem connected to Spark.\n"
   ]
  },
  {
   "cell_type": "code",
   "execution_count": 8,
   "metadata": {
    "tags": []
   },
   "outputs": [],
   "source": [
    "#sc.stop()"
   ]
  },
  {
   "cell_type": "code",
   "execution_count": 1,
   "metadata": {
    "tags": []
   },
   "outputs": [
    {
     "name": "stderr",
     "output_type": "stream",
     "text": [
      "Setting default log level to \"WARN\".\n",
      "To adjust logging level use sc.setLogLevel(newLevel). For SparkR, use setLogLevel(newLevel).\n",
      "2024-10-25 11:37:41,216 WARN yarn.Client: Neither spark.yarn.jars nor spark.yarn.archive is set, falling back to uploading libraries under SPARK_HOME.\n"
     ]
    }
   ],
   "source": [
    "import findspark\n",
    "findspark.init()\n",
    "\n",
    "import sys\n",
    "from pyspark import SparkContext, SparkConf\n",
    "from pyspark.sql import SparkSession, functions as F, Window\n",
    "\n",
    "sc = SparkContext(appName=\"SGA\") \n",
    "se = SparkSession(sc)"
   ]
  },
  {
   "cell_type": "code",
   "execution_count": 2,
   "metadata": {
    "tags": []
   },
   "outputs": [
    {
     "name": "stderr",
     "output_type": "stream",
     "text": [
      "                                                                                \r"
     ]
    },
    {
     "name": "stdout",
     "output_type": "stream",
     "text": [
      "+-------+----------+------------+----------+----------+\n",
      "|user_id|session_id|  event_type|event_page| timestamp|\n",
      "+-------+----------+------------+----------+----------+\n",
      "|    562|       507|        page|      main|1695584127|\n",
      "|    562|       507|       event|      main|1695584134|\n",
      "|    562|       507|       event|      main|1695584144|\n",
      "|    562|       507|       event|      main|1695584147|\n",
      "|    562|       507|wNaxLlerrorU|      main|1695584154|\n",
      "|    562|       507|       event|      main|1695584154|\n",
      "|    562|       507|       event|      main|1695584154|\n",
      "|    562|       507|       event|      main|1695584160|\n",
      "|    562|       507|        page|    rabota|1695584166|\n",
      "|    562|       507|       event|    rabota|1695584174|\n",
      "|    562|       507|       event|    rabota|1695584181|\n",
      "|    562|       507|       event|    rabota|1695584189|\n",
      "|    562|       507|        page|      main|1695584194|\n",
      "|    562|       507|       event|      main|1695584204|\n",
      "|    562|       507|       event|      main|1695584211|\n",
      "|    562|       507|       event|      main|1695584211|\n",
      "|    562|       507|       event|      main|1695584219|\n",
      "|    562|       507|        page|     bonus|1695584221|\n",
      "|    562|       507|        page|    online|1695584222|\n",
      "|    562|       507|       event|    online|1695584230|\n",
      "+-------+----------+------------+----------+----------+\n",
      "only showing top 20 rows\n",
      "\n"
     ]
    }
   ],
   "source": [
    "df = se.read.csv(\"hdfs:/data/clickstream.csv\", header=True, inferSchema=True, sep='\\t')\n",
    "df.show(20)"
   ]
  },
  {
   "cell_type": "markdown",
   "metadata": {
    "jp-MarkdownHeadingCollapsed": true,
    "tags": []
   },
   "source": [
    "# 1: Spark DF solution"
   ]
  },
  {
   "cell_type": "code",
   "execution_count": 3,
   "metadata": {
    "tags": []
   },
   "outputs": [],
   "source": [
    "# Remov and flag errors\n",
    "df = df.withColumn(\"error_flag\", F.when(F.lower(F.col(\"event_type\")).contains(\"error\"), 1).otherwise(0))\n",
    "window_spec = Window.partitionBy(\"user_id\", \"session_id\").orderBy(\"timestamp\").rowsBetween(Window.unboundedPreceding, Window.currentRow)\n",
    "df = df.withColumn(\"cumulative_error\", F.sum(\"error_flag\").over(window_spec))\n",
    "\n",
    "# Filter to keep rows until the first error\n",
    "filtered_df = df.filter(F.col(\"cumulative_error\") == 0).drop(\"error_flag\", \"cumulative_error\")\n",
    "\n",
    "# Deduplicate within the session\n",
    "window_session = Window.partitionBy(\"user_id\", \"session_id\").orderBy(\"timestamp\")\n",
    "filtered_df = (\n",
    "    filtered_df.withColumn(\"prev_page\", F.lag(\"event_page\").over(window_session))\n",
    "               .filter((F.col(\"event_page\") != F.col(\"prev_page\")) | F.col(\"prev_page\").isNull())\n",
    ")\n",
    "\n",
    "# Form routes and count\n",
    "routes_df = (\n",
    "    filtered_df.groupBy(\"user_id\", \"session_id\")\n",
    "               .agg(F.collect_list(\"event_page\").alias(\"pages\"))\n",
    "               .withColumn(\"route\", F.expr(\"array_join(pages, '-')\"))\n",
    "               .groupBy(\"route\")\n",
    "               .count()\n",
    "               .orderBy(F.desc(\"count\"))\n",
    "               .limit(30)\n",
    ")\n"
   ]
  },
  {
   "cell_type": "code",
   "execution_count": 4,
   "metadata": {
    "tags": []
   },
   "outputs": [
    {
     "name": "stderr",
     "output_type": "stream",
     "text": [
      "                                                                                \r"
     ]
    }
   ],
   "source": [
    "import json\n",
    "\n",
    "top_10_routes_df = routes_df.limit(10)\n",
    "\n",
    "top_10_routes_dict = {row[\"route\"]: row[\"count\"] for row in top_10_routes_df.collect()}\n",
    "\n",
    "with open(\"result.json\", \"w\") as file:\n",
    "    json.dump(top_10_routes_dict, file, indent=4)\n"
   ]
  },
  {
   "cell_type": "code",
   "execution_count": 6,
   "metadata": {
    "tags": []
   },
   "outputs": [
    {
     "name": "stdout",
     "output_type": "stream",
     "text": [
      "0.9999999999999999\n",
      "Correct main answer!\n",
      "Correct main-archive answer!\n",
      "Correct main-rabota answer!\n",
      "Correct main-internet answer!\n",
      "Correct main-bonus answer!\n",
      "Correct main-news answer!\n",
      "Correct main-tariffs answer!\n",
      "Correct main-online answer!\n",
      "Correct main-vklad answer!\n",
      "Correct main-rabota-archive answer!\n"
     ]
    }
   ],
   "source": [
    "!curl -F file=@result.json 51.250.123.136:80/MDS-LSML1/ilvira_khaidarova/w6/2"
   ]
  },
  {
   "cell_type": "markdown",
   "metadata": {
    "jp-MarkdownHeadingCollapsed": true,
    "tags": []
   },
   "source": [
    "# 2: Spark RDD solution"
   ]
  },
  {
   "cell_type": "code",
   "execution_count": 11,
   "metadata": {
    "tags": []
   },
   "outputs": [
    {
     "name": "stderr",
     "output_type": "stream",
     "text": [
      "[Stage 46:====================================================>   (30 + 2) / 32]\r"
     ]
    },
    {
     "name": "stdout",
     "output_type": "stream",
     "text": [
      "main\t8184\n",
      "main-archive\t1113\n",
      "main-rabota\t1047\n",
      "main-internet\t897\n",
      "main-bonus\t870\n",
      "main-news\t769\n",
      "main-tariffs\t677\n",
      "main-online\t587\n",
      "main-vklad\t518\n",
      "main-rabota-archive\t170\n"
     ]
    },
    {
     "name": "stderr",
     "output_type": "stream",
     "text": [
      "                                                                                \r"
     ]
    }
   ],
   "source": [
    "raw_rdd = sc.textFile(\"hdfs:/data/clickstream.csv\")\n",
    "header = raw_rdd.first()  \n",
    "data_rdd = raw_rdd.filter(lambda row: row != header)  \n",
    "data_rdd = data_rdd.map(lambda row: row.split(\"\\t\"))  \n",
    "\n",
    "# (user_id, session_id, event_type, event_page, timestamp)\n",
    "data_rdd = data_rdd.map(lambda x: (int(x[0]), int(x[1]), x[2], x[3], int(x[4])))\n",
    "\n",
    "# Filter errors\n",
    "session_errors = data_rdd.filter(lambda x: \"error\" in x[2].lower()).map(lambda x: ((x[0], x[1]), x[4]))\n",
    "\n",
    "# Get timestamp for first error\n",
    "first_error_ts = session_errors.reduceByKey(lambda a, b: min(a, b))\n",
    "\n",
    "# Filter after the first error\n",
    "data_rdd = data_rdd.map(lambda x: ((x[0], x[1]), x)) \\\n",
    "                   .leftOuterJoin(first_error_ts) \\\n",
    "                   .filter(lambda x: x[1][1] is None or x[1][0][4] < x[1][1]) \\\n",
    "                   .map(lambda x: x[1][0])\n",
    "\n",
    "# Deduplicate & Sort\n",
    "sorted_rdd = data_rdd.sortBy(lambda x: (x[0], x[1], x[4]))\n",
    "\n",
    "def deduplicate_consecutive_pages(records):\n",
    "    previous_page = None\n",
    "    for record in records:\n",
    "        if record[3] != previous_page:\n",
    "            yield record[3]\n",
    "        previous_page = record[3]\n",
    "\n",
    "# Group by user_id, session_id\n",
    "session_routes = sorted_rdd.map(lambda x: ((x[0], x[1]), x)).groupByKey() \\\n",
    "                           .mapValues(deduplicate_consecutive_pages) \\\n",
    "                           .mapValues(lambda pages: list(pages)) \\\n",
    "                           .filter(lambda x: len(x[1]) >= 1)  \n",
    "\n",
    "# Aggregate and count\n",
    "route_counts = session_routes.map(lambda x: (\"-\".join(x[1]), 1)).reduceByKey(lambda a, b: a + b)\n",
    "\n",
    "top_10_routes = route_counts.takeOrdered(10, key=lambda x: -x[1])\n",
    "for route, count in top_10_routes:\n",
    "    print(f\"{route}\\t{count}\")\n"
   ]
  },
  {
   "cell_type": "markdown",
   "metadata": {
    "jp-MarkdownHeadingCollapsed": true,
    "tags": []
   },
   "source": [
    "# 3: Spark SQL solution"
   ]
  },
  {
   "cell_type": "code",
   "execution_count": 7,
   "metadata": {
    "tags": []
   },
   "outputs": [],
   "source": [
    "# Remov and flag errors\n",
    "df = df.withColumn(\"error_flag\", F.when(F.lower(F.col(\"event_type\")).contains(\"error\"), 1).otherwise(0))\n",
    "window_spec = Window.partitionBy(\"user_id\", \"session_id\").orderBy(\"timestamp\").rowsBetween(Window.unboundedPreceding, Window.currentRow)\n",
    "df = df.withColumn(\"cumulative_error\", F.sum(\"error_flag\").over(window_spec))\n",
    "\n",
    "# Filter to keep rows until the first error\n",
    "filtered_df = df.filter(F.col(\"cumulative_error\") == 0).drop(\"error_flag\", \"cumulative_error\")\n",
    "\n",
    "# Deduplicate within the session\n",
    "window_session = Window.partitionBy(\"user_id\", \"session_id\").orderBy(\"timestamp\")\n",
    "filtered_df = (\n",
    "    filtered_df.withColumn(\"prev_page\", F.lag(\"event_page\").over(window_session))\n",
    "               .filter((F.col(\"event_page\") != F.col(\"prev_page\")) | F.col(\"prev_page\").isNull())\n",
    ")\n",
    "\n",
    "filtered_df.createOrReplaceTempView(\"filtered_clickstream\")"
   ]
  },
  {
   "cell_type": "code",
   "execution_count": 10,
   "metadata": {
    "tags": []
   },
   "outputs": [
    {
     "name": "stderr",
     "output_type": "stream",
     "text": [
      "[Stage 30:===================================================>     (9 + 1) / 10]\r"
     ]
    },
    {
     "name": "stdout",
     "output_type": "stream",
     "text": [
      "+-------------------+-----+\n",
      "|route              |count|\n",
      "+-------------------+-----+\n",
      "|main               |8185 |\n",
      "|main-archive       |1112 |\n",
      "|main-rabota        |1047 |\n",
      "|main-internet      |897  |\n",
      "|main-bonus         |870  |\n",
      "|main-news          |769  |\n",
      "|main-tariffs       |676  |\n",
      "|main-online        |587  |\n",
      "|main-vklad         |518  |\n",
      "|main-rabota-archive|170  |\n",
      "+-------------------+-----+\n",
      "\n"
     ]
    },
    {
     "name": "stderr",
     "output_type": "stream",
     "text": [
      "                                                                                \r"
     ]
    }
   ],
   "source": [
    "# Use SQL to group by user and session, then aggregate and count \n",
    "routes_df = se.sql(\"\"\"\n",
    "    WITH session_routes AS (\n",
    "        SELECT \n",
    "            user_id, \n",
    "            session_id, \n",
    "            COLLECT_LIST(event_page) AS pages\n",
    "        FROM filtered_clickstream\n",
    "        GROUP BY user_id, session_id\n",
    "    ),\n",
    "    route_counts AS (\n",
    "        SELECT \n",
    "            ARRAY_JOIN(pages, '-') AS route, \n",
    "            COUNT(*) AS count\n",
    "        FROM session_routes\n",
    "        GROUP BY route\n",
    "    )\n",
    "    SELECT route, count\n",
    "    FROM route_counts\n",
    "    ORDER BY count DESC\n",
    "    LIMIT 10\n",
    "\"\"\")\n",
    "\n",
    "routes_df.show(truncate=False)"
   ]
  },
  {
   "cell_type": "code",
   "execution_count": null,
   "metadata": {},
   "outputs": [],
   "source": []
  }
 ],
 "metadata": {
  "coursera": {
   "schema_names": [
    "week-4-spark-homework"
   ]
  },
  "kernelspec": {
   "display_name": "Python 3 (ipykernel)",
   "language": "python",
   "name": "python3"
  },
  "language_info": {
   "codemirror_mode": {
    "name": "ipython",
    "version": 3
   },
   "file_extension": ".py",
   "mimetype": "text/x-python",
   "name": "python",
   "nbconvert_exporter": "python",
   "pygments_lexer": "ipython3",
   "version": "3.10.9"
  },
  "vscode": {
   "interpreter": {
    "hash": "31f2aee4e71d21fbe5cf8b01ff0e069b9275f58929596ceb00d14d90e3e16cd6"
   }
  }
 },
 "nbformat": 4,
 "nbformat_minor": 4
}
